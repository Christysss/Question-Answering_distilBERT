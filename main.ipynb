{
 "cells": [
  {
   "cell_type": "markdown",
   "metadata": {
    "colab_type": "text",
    "id": "WiPHNcdtrd6E"
   },
   "source": [
    "# COLX 563 Lab Assignment 2: Semantic Role Labelling\n",
    "## Assignment Objectives\n",
    "\n",
    "In this lab, you will be implementing and training a neural network (LSTM) model to predict Semantic Role Labels (SRLs). Components of this lab include:\n",
    "\n",
    "1. Building a pytorch.utils.data.Dataset\n",
    "2. Implementing a neural network model for SRLabeling\n",
    "3. Evaluating your network\n",
    "4. Competing in a Kaggle competition\n",
    "\n",
    "If you do not have access to a GPU locally you may want to run this on Google CoLab with a GPU backend. Our dataset is not huge, nor is our model, so CPU training is doable (shouldn't take more than about 30 minutes), but training will be *much* faster on a GPU if you are trying different options for the Kaggle competition.\n"
   ]
  },
  {
   "cell_type": "markdown",
   "metadata": {
    "colab_type": "text",
    "id": "MKuXX1pxrd6F"
   },
   "source": [
    "## Getting Started\n",
    "\n",
    "Run the code below to access relevant modules (you can add to this as needed)."
   ]
  },
  {
   "cell_type": "code",
   "execution_count": 1,
   "metadata": {
    "colab": {},
    "colab_type": "code",
    "id": "QrbFsgi4rd6G"
   },
   "outputs": [],
   "source": [
    "import os, time\n",
    "import pandas as pd\n",
    "import codecs\n",
    "import numpy as np\n",
    "import torch\n",
    "import torch.nn as nn\n",
    "import torch.nn.functional as F\n",
    "import torch.optim as optim\n",
    "from sklearn.metrics import f1_score, classification_report\n",
    "import matplotlib.pyplot as plt\n",
    "from torch.utils.data import DataLoader, Dataset\n",
    "from bs4 import BeautifulSoup"
   ]
  },
  {
   "cell_type": "markdown",
   "metadata": {
    "colab_type": "text",
    "id": "4wUbaFeird6J"
   },
   "source": [
    "For this lab, we will be working with the OntoNotes v. 5.0 corpus again. This time, we will be working with data tagged with Semantic Role Labels in the PropBank style using the standard format of CoNLL. Download [the data](https://github.ubc.ca/MDS-CL-2022-23/COLX_563_adv-semantics_students/tree/master/data/Lab2_data.zip) from github, unzip it into a directory outside of your lab repo and change the path below."
   ]
  },
  {
   "cell_type": "code",
   "execution_count": 2,
   "metadata": {
    "colab": {},
    "colab_type": "code",
    "id": "1AmDceburd6K"
   },
   "outputs": [],
   "source": [
    "ontonotes_path = \"data/\""
   ]
  },
  {
   "cell_type": "markdown",
   "metadata": {
    "colab_type": "text",
    "id": "Yw21luW4rd6O"
   },
   "source": [
    "## Tidy Submission\n",
    "rubric={mechanics:1}\n",
    "\n",
    "To get the marks for tidy submission:\n",
    "- Submit the assignment by filling in this Jupyter notebook with your answers embedded\n",
    "- Be sure to follow the instructions"
   ]
  },
  {
   "cell_type": "markdown",
   "metadata": {
    "colab_type": "text",
    "id": "rEvu9N0Grd6P"
   },
   "source": [
    "## Initial Data Processing\n",
    "In the following cells, we'll be collecting our data and building our data set. **The code has been provided for you. You just need to run the cells.**"
   ]
  },
  {
   "cell_type": "markdown",
   "metadata": {
    "colab_type": "text",
    "id": "1fjsOhGerd6Q"
   },
   "source": [
    "First, we'll generate three lists (`train_files`, `dev_files`, and `test_files`) which consist of the paths to all SRL datafiles. "
   ]
  },
  {
   "cell_type": "code",
   "execution_count": 3,
   "metadata": {
    "colab": {},
    "colab_type": "code",
    "id": "ZrKFDcr5rd6Q"
   },
   "outputs": [],
   "source": [
    "train_files = ['train/' + filename for filename in os.listdir(ontonotes_path + 'train')]\n",
    "dev_files = ['dev/' + filename for filename in os.listdir(ontonotes_path + 'dev')]\n",
    "test_files = ['test/' + filename for filename in os.listdir(ontonotes_path + 'test')]\n",
    "\n",
    "train_files, dev_files, test_files = sorted(train_files), sorted(dev_files), sorted(test_files)"
   ]
  },
  {
   "cell_type": "code",
   "execution_count": 4,
   "metadata": {
    "colab": {},
    "colab_type": "code",
    "id": "BYPyglw-rd6T",
    "outputId": "7149732c-375f-4904-bf8b-0711fe9673e1"
   },
   "outputs": [
    {
     "name": "stdout",
     "output_type": "stream",
     "text": [
      "Success!\n"
     ]
    }
   ],
   "source": [
    "# Check that we get the correct number of files\n",
    "assert len(train_files) == 262\n",
    "print('Success!')"
   ]
  },
  {
   "cell_type": "markdown",
   "metadata": {
    "colab_type": "text",
    "id": "ELWtVI9Srd6X"
   },
   "source": [
    "### Building our dataset\n",
    "\n",
    "Like with our NER set, we need to generate IOB (**I**nside-**O**utside-**B**eginning) SRL tags for our CoNLL formatted data. But this time, because a sentence can have multiple verbal predicates (with SRL arguments for each predicate), we will potentially create *multiple* IOB tag sequences for a single sentence. \n",
    "\n",
    "For your reference, here is an example of CoNLL formatted data. Columns 9 and 10 contain SRL arguments for the verbs *Shooting* and *turn*, respectively. Parentheses like `(ARG2* ... *)` are used to indicate spans for arguments. For example, `ARG2` for the verb *turn* contains the entire span *Into a Funeral in the Gaza Strip*. \n",
    "\n",
    "```\n",
    "ontonotes/wb/a2e/00/a2e_0000   0    0  Celebration    NN  (TOP(S(NP*     -          -    (ARGM-LOC*)   (ARG0*\n",
    "ontonotes/wb/a2e/00/a2e_0000   0    1     Shooting    NN           *) shoot  shoot.02           (V*)        *)\n",
    "ontonotes/wb/a2e/00/a2e_0000   0    2        Turns   VBZ        (VP*   turn   turn.02             *       (V*)\n",
    "ontonotes/wb/a2e/00/a2e_0000   0    3      Wedding    NN        (NP*)    -          -             *    (ARG1*)\n",
    "ontonotes/wb/a2e/00/a2e_0000   0    4         Into    IN        (PP*     -          -             *    (ARG2*\n",
    "ontonotes/wb/a2e/00/a2e_0000   0    5            a    DT        (NP*     -          -             *         *\n",
    "ontonotes/wb/a2e/00/a2e_0000   0    6      Funeral    NN           *)    -          -             *         *\n",
    "ontonotes/wb/a2e/00/a2e_0000   0    7           in    IN        (PP*     -          -             *         *\n",
    "ontonotes/wb/a2e/00/a2e_0000   0    8     Southern    JJ        (NP*     -          -             *         *\n",
    "ontonotes/wb/a2e/00/a2e_0000   0    9         Gaza   NNP           *     -          -             *         *\n",
    "ontonotes/wb/a2e/00/a2e_0000   0   10        Strip   NNP      *))))))    -          -             *         *)\n",
    "\n",
    "```\n",
    "To distinguish between predicates, we'll add a binary indicator feature to **every token**. The value is **1** if the token is the targeted verb and **0**, otherwise. For example, the first SRL column for the sentence above would generate tokens and tags that would look like this (*shooting* is the predicate here as indicated by `('shooting', 1)`):\n",
    "```\n",
    "('celebration', 0) : B-ARGM\n",
    "('shooting', 1) : B-PRED\n",
    "('turns', 0) : O\n",
    "('wedding', 0) : O\n",
    "('into', 0) : O\n",
    "('a', 0) : O\n",
    "('funeral', 0) : O\n",
    "('in', 0) : O\n",
    "('southern', 0) : O\n",
    "('gaza', 0) : O\n",
    "('strip', 0) : O\n",
    "```\n",
    "The second SRL column would generate an output that looks like this. The predicate here is *turns*.\n",
    "```\n",
    "('celebration', 0) : B-ARG0\n",
    "('shooting', 0) : I-ARG0\n",
    "('turns', 1) : B-PRED\n",
    "('wedding', 0) : B-ARG1\n",
    "('into', 0) : B-ARG2\n",
    "('a', 0) : I-ARG2\n",
    "('funeral', 0) : I-ARG2\n",
    "('in', 0) : I-ARG2\n",
    "('southern', 0) : I-ARG2\n",
    "('gaza', 0) : I-ARG2\n",
    "('strip', 0) : I-ARG2\n",
    "```\n",
    "\n",
    "**Note:** The 'V' tag has been changed to 'PRED,' and all tags 'ARGM(-XYZ)' have been collapsed into a single 'ARGM' type.\n",
    "\n",
    "The code here reads each sentence as a pandas.DataFrame() and then generates sets of tokens and tags for it."
   ]
  },
  {
   "cell_type": "code",
   "execution_count": 5,
   "metadata": {
    "colab": {},
    "colab_type": "code",
    "id": "ceW-fgGmrd6X"
   },
   "outputs": [],
   "source": [
    "def df2iob(df):\n",
    "    '''Generates tokens and tags from a dataframe corresponding to a sentence of the Ontonotes\n",
    "    corpus tagged for semantic roles. Returns a tuple consisting of a list of lists of \n",
    "    (token,is_target_pred) pairs, and lists of lists of IOB tags; the length of these lists will\n",
    "    correspond to number of predicates in the sentence (potentially zero)'''\n",
    "    word_tokens = df['Word'].values.tolist()\n",
    "    all_tags = []\n",
    "    all_tokens = []\n",
    "    for column in df:\n",
    "        if column.startswith(\"SRL\"):\n",
    "            sent_tags = []\n",
    "            srl = df[column].values.tolist()    \n",
    "            in_tag = 0\n",
    "            for tag in srl:\n",
    "                # Used to collapse tag classes\n",
    "                tag = tag.replace('C-', '')\n",
    "                tag = tag.replace('R-','')\n",
    "                tag = tag.replace('-DSP','')\n",
    "                if '(' in tag and ')' in tag:\n",
    "                    curr_tag = tag[1:-2]\n",
    "                    curr_tag = 'PRED' if curr_tag == 'V' else curr_tag\n",
    "                    curr_tag = 'ARGM' if 'ARGM' in curr_tag else curr_tag\n",
    "                    sent_tags.append('B-' + curr_tag)\n",
    "                elif '(' in tag:\n",
    "                    curr_tag = tag[1:-1]\n",
    "                    curr_tag = 'PRED' if curr_tag == 'V' else curr_tag\n",
    "                    curr_tag = 'ARGM' if 'ARGM' in curr_tag else curr_tag\n",
    "                    sent_tags.append('B-' + curr_tag)\n",
    "                    in_tag = 1\n",
    "                elif ')' in tag:\n",
    "                    sent_tags.append('I-' + curr_tag)\n",
    "                    in_tag = 0\n",
    "                elif in_tag:\n",
    "                    sent_tags.append('I-' + curr_tag)\n",
    "                else:\n",
    "                    sent_tags.append('O')\n",
    "            word_token_is_verb = [1 if 'PRED' in tag else 0 for tag in sent_tags]\n",
    "            sent_token_pairs = [(w.lower(), j) for w,j in zip(word_tokens, word_token_is_verb)]\n",
    "            all_tokens.append(sent_token_pairs)\n",
    "            all_tags.append(sent_tags)\n",
    "    return all_tokens, all_tags\n"
   ]
  },
  {
   "cell_type": "markdown",
   "metadata": {},
   "source": [
    "The following function extracts sentences from a file and converts them into Pandas `DataFrame` objects."
   ]
  },
  {
   "cell_type": "code",
   "execution_count": 6,
   "metadata": {
    "colab": {},
    "colab_type": "code",
    "id": "Blm0EwEdrd6a"
   },
   "outputs": [],
   "source": [
    "column_headers = ['Path', 'SentId', 'WordIdx', 'Word', 'POS', 'Parse', 'Verb', 'VerbSense']\n",
    "\n",
    "def get_dfs(file):\n",
    "    '''Gets all dataframes (which correspond to sentences) from a .gold_conll file'''\n",
    "    dfs = []\n",
    "    curr_sent = []\n",
    "    with open(file, encoding='utf=8') as inF:\n",
    "        for line in inF:\n",
    "            if line == '\\n' and curr_sent:\n",
    "                num_srl = len(curr_sent[0]) - len(column_headers)\n",
    "                local_column_headers = column_headers + ['SRL' + str(ii) for ii in range(num_srl)] \n",
    "                df = pd.DataFrame(curr_sent, columns=local_column_headers)\n",
    "                dfs.append(df)\n",
    "                #Reset for next sentence\n",
    "                curr_sent = []\n",
    "            else:\n",
    "                curr_sent.append(line.strip().split())\n",
    "    return dfs"
   ]
  },
  {
   "cell_type": "markdown",
   "metadata": {
    "colab_type": "text",
    "id": "L4pFA8cyrd6d"
   },
   "source": [
    "Code to make sure things are working properly. Please have a look at `all_tokens` and `all_tags` returned by `df2iob()`."
   ]
  },
  {
   "cell_type": "code",
   "execution_count": 7,
   "metadata": {
    "colab": {},
    "colab_type": "code",
    "id": "qzZ_Or-nrd6e",
    "outputId": "945918a2-3959-4715-8d3f-84854599c46d"
   },
   "outputs": [
    {
     "name": "stdout",
     "output_type": "stream",
     "text": [
      "Success!\n"
     ]
    }
   ],
   "source": [
    "check_file = ontonotes_path + dev_files[0]\n",
    "dfs = get_dfs(check_file)\n",
    "all_tokens, all_tags = df2iob(dfs[3])\n",
    "assert len(all_tokens) == 3\n",
    "assert len(all_tags) == 3\n",
    "assert all_tokens[2] == [('the', 0), ('yugoslav', 0), ('election', 0), ('commission', 0), ('claims', 0), ('he', 0), ('did', 0), ('not', 0), ('win', 1), ('more', 0), ('than', 0), ('50', 0), ('%', 0), ('of', 0), ('the', 0), ('vote', 0), ('.', 0)]\n",
    "assert all_tags[2] == ['O', 'O', 'O', 'O', 'O', 'B-ARG0', 'O', 'B-ARGM', 'B-PRED', 'B-ARG1', 'I-ARG1', 'I-ARG1', 'I-ARG1', 'I-ARG1', 'I-ARG1', 'I-ARG1', 'O']\n",
    "assert all_tokens[0] == [('the', 0), ('yugoslav', 0), ('election', 0), ('commission', 0), ('claims', 1), ('he', 0), ('did', 0), ('not', 0), ('win', 0), ('more', 0), ('than', 0), ('50', 0), ('%', 0), ('of', 0), ('the', 0), ('vote', 0), ('.', 0)]\n",
    "assert all_tags[0] == ['B-ARG0', 'I-ARG0', 'I-ARG0', 'I-ARG0', 'B-PRED', 'B-ARG1', 'I-ARG1', 'I-ARG1', 'I-ARG1', 'I-ARG1', 'I-ARG1', 'I-ARG1', 'I-ARG1', 'I-ARG1', 'I-ARG1', 'I-ARG1', 'O']\n",
    "print('Success!')"
   ]
  },
  {
   "cell_type": "code",
   "execution_count": 8,
   "metadata": {},
   "outputs": [
    {
     "data": {
      "text/plain": [
       "[['B-ARG0',\n",
       "  'I-ARG0',\n",
       "  'I-ARG0',\n",
       "  'I-ARG0',\n",
       "  'B-PRED',\n",
       "  'B-ARG1',\n",
       "  'I-ARG1',\n",
       "  'I-ARG1',\n",
       "  'I-ARG1',\n",
       "  'I-ARG1',\n",
       "  'I-ARG1',\n",
       "  'I-ARG1',\n",
       "  'I-ARG1',\n",
       "  'I-ARG1',\n",
       "  'I-ARG1',\n",
       "  'I-ARG1',\n",
       "  'O'],\n",
       " ['O',\n",
       "  'O',\n",
       "  'O',\n",
       "  'O',\n",
       "  'O',\n",
       "  'O',\n",
       "  'B-PRED',\n",
       "  'O',\n",
       "  'O',\n",
       "  'O',\n",
       "  'O',\n",
       "  'O',\n",
       "  'O',\n",
       "  'O',\n",
       "  'O',\n",
       "  'O',\n",
       "  'O'],\n",
       " ['O',\n",
       "  'O',\n",
       "  'O',\n",
       "  'O',\n",
       "  'O',\n",
       "  'B-ARG0',\n",
       "  'O',\n",
       "  'B-ARGM',\n",
       "  'B-PRED',\n",
       "  'B-ARG1',\n",
       "  'I-ARG1',\n",
       "  'I-ARG1',\n",
       "  'I-ARG1',\n",
       "  'I-ARG1',\n",
       "  'I-ARG1',\n",
       "  'I-ARG1',\n",
       "  'O']]"
      ]
     },
     "execution_count": 8,
     "metadata": {},
     "output_type": "execute_result"
    }
   ],
   "source": [
    "all_tokens\n",
    "all_tags"
   ]
  },
  {
   "cell_type": "markdown",
   "metadata": {
    "colab_type": "text",
    "id": "oUZcP8oTrd6h"
   },
   "source": [
    "## Exercise 1: Building a pytorch Dataset\n",
    "\n",
    "Now we are going to build a `pytorch.utils.data.Dataset` with tensor representations of our data. \n",
    "\n",
    "We're not doing this using torchtext. Instead, we'll do it more or less from scratch because that's a good skill to know. For example, you won't be able to use torchtext when handling non-language data. "
   ]
  },
  {
   "cell_type": "markdown",
   "metadata": {
    "colab_type": "text",
    "id": "r69MKaierd6h"
   },
   "source": [
    "### Exercise 1.1\n",
    "rubric = {accuracy:1}\n",
    "\n",
    "First, we need to generate our entire dataset. Before we create the pytorch `Dataset`, our input will be word tokens and their binary value indicating if they are the target verb predicate for the current input. The output will be an IOB-SRL tag. \n",
    "\n",
    "Using the functions `get_dfs()` and `df2iob()` provided in **Initial Data Processing** above, write a `prepare_SRL_data` function that takes as input a list of .gold_conll files and creates a two python lists `input_tokens` and `output_tags`. Each list should contain an element for every sentense in the input files. \n",
    "\n",
    "The lists in `input_tokens` should contain `(token, indicator)` pairs, where `token` is a word token and `indicator` either 0 or 1 as returned by `df2iob()`.\n",
    "\n",
    "The lists in `output_tags` should contain IOB tags.\n",
    "\n",
    "**HINT:** Check how to use the functions `get_dfs()` and `df2iob()` in the assert cell above."
   ]
  },
  {
   "cell_type": "code",
   "execution_count": 9,
   "metadata": {
    "colab": {},
    "colab_type": "code",
    "id": "eKpyZuw0rd6h",
    "scrolled": false
   },
   "outputs": [],
   "source": [
    "def prepare_SRL_data(srl_files):\n",
    "    '''create IOB-data for all the SRL-tagged Ontonotes files in srl_files. \n",
    "    \n",
    "       Input: list of file names\n",
    "       Output: (input_tokens, output_tags) \n",
    "       \n",
    "       input_tokens is a list of lists, one list for every sentence in the data. Here \n",
    "                    each sentence list consists of (token, is_target_pred) pairs. \n",
    "       output_tags  is a list of lists, one list for every sentence in the data. Here \n",
    "                    each sentence list consists of IOB tags.\n",
    "    '''\n",
    "    input_tokens, output_tags = [], []\n",
    "    \n",
    "    for f in srl_files:\n",
    "        for i in get_dfs(ontonotes_path + f):\n",
    "            tokens, tags = df2iob(i)\n",
    "            input_tokens.extend(tokens)\n",
    "            output_tags.extend(tags)\n",
    "        \n",
    "    \n",
    "    return input_tokens, output_tags"
   ]
  },
  {
   "cell_type": "code",
   "execution_count": 10,
   "metadata": {
    "colab": {
     "base_uri": "https://localhost:8080/",
     "height": 35
    },
    "colab_type": "code",
    "id": "5IUu3oEzrd6k",
    "outputId": "34440acf-dfa1-4427-efc2-cc2610fe5aed",
    "scrolled": false
   },
   "outputs": [
    {
     "name": "stdout",
     "output_type": "stream",
     "text": [
      "Success!\n"
     ]
    }
   ],
   "source": [
    "input_tokens, output_tags = prepare_SRL_data(train_files)\n",
    "assert len(input_tokens) == 22437\n",
    "assert len(output_tags) == 22437\n",
    "print('Success!')"
   ]
  },
  {
   "cell_type": "markdown",
   "metadata": {
    "colab_type": "text",
    "id": "0tFWsbpcrd6o"
   },
   "source": [
    "### Exercise 1.2\n",
    "rubric={accuracy:1, quality:1}\n",
    "\n",
    "Now we need to pad our dataset so that all sequences (sentences) have the same length. This is needed to allow us to train our SRL model in batches. To do the padding, we first need to find the longest sentence in your dataset (``input_tokens``)."
   ]
  },
  {
   "cell_type": "code",
   "execution_count": 11,
   "metadata": {
    "colab": {},
    "colab_type": "code",
    "id": "0vEYSLl2rd6p",
    "scrolled": true
   },
   "outputs": [],
   "source": [
    "# Finding the longest sentence\n",
    "LONGEST_SENTENCE = max([len(sent) for sent in input_tokens])\n",
    "assert LONGEST_SENTENCE == 100"
   ]
  },
  {
   "cell_type": "markdown",
   "metadata": {
    "colab_type": "text",
    "id": "rdb9hCr_rd6r"
   },
   "source": [
    "Next, write two functions ``pad_tokens()`` and ``pad_tags()``  that take in, respectively, either the `input_tokens` list or the `output_tags` list created by `prepare_SRL_data` as well as `longest_sentence` and returns the same data with padding for each of the sentences. Padding should be done at the end of each sentence. You can pad with the tuple `(PAD, 0)` for token padding and the string `PAD` for tag padding.\n",
    "\n",
    "**Note:** It would result in less padding if we separately padded each batch (instead of padding all the sentences in the dataset to the same length), however, this would also complicate our code, so we'll take the simpler approach here."
   ]
  },
  {
   "cell_type": "code",
   "execution_count": 12,
   "metadata": {
    "colab": {},
    "colab_type": "code",
    "id": "qjayFFzsrd6s"
   },
   "outputs": [],
   "source": [
    "def pad_tokens(input_tokens, longest_sentence):\n",
    "    ### Pad tokens list (ie, the X values of the data) \n",
    "    ### with <null> to extend the size of the list\n",
    "    result = []\n",
    "    for sent in input_tokens:\n",
    "        padded = []\n",
    "        padding = [(\"<null>\", 0) for i in range(longest_sentence - len(sent))]\n",
    "        padded.append(sent + padding)\n",
    "        result.extend(padded)\n",
    "\n",
    "    return result\n",
    "\n",
    "def pad_tags(output_tags, longest_sentence):\n",
    "    ### Pad tags list (ie, the Y values of the data) \n",
    "    ### with <null> to extend the size of the list\n",
    "    result = []\n",
    "    for sent in output_tags:\n",
    "        padded = []\n",
    "        padding = [\"<null>\" for i in range(longest_sentence - len(sent))]\n",
    "        padded.append(sent + padding)\n",
    "        result.extend(padded)\n",
    "\n",
    "    return result\n"
   ]
  },
  {
   "cell_type": "code",
   "execution_count": 13,
   "metadata": {
    "colab": {},
    "colab_type": "code",
    "id": "tVoe-A39rd6u",
    "outputId": "f1c90533-1868-4b04-f8e5-8da93dd64bb0"
   },
   "outputs": [
    {
     "name": "stdout",
     "output_type": "stream",
     "text": [
      "Success!\n"
     ]
    }
   ],
   "source": [
    "padded_input_tokens = pad_tokens(input_tokens[0:1], LONGEST_SENTENCE) \n",
    "padded_output_tags = pad_tags(output_tags[0:1], LONGEST_SENTENCE)\n",
    "\n",
    "assert len(padded_input_tokens[0]) == LONGEST_SENTENCE\n",
    "assert len(padded_output_tags[0]) == LONGEST_SENTENCE\n",
    "assert padded_input_tokens[0][-1] == (\"<null>\", 0)\n",
    "assert padded_output_tags[0][-1] == \"<null>\" \n",
    "print('Success!')"
   ]
  },
  {
   "cell_type": "markdown",
   "metadata": {
    "colab_type": "text",
    "id": "xFC1udwIrd6x"
   },
   "source": [
    "### Exercise 1.3\n",
    "rubric = {accuracy:2}"
   ]
  },
  {
   "cell_type": "markdown",
   "metadata": {
    "colab_type": "text",
    "id": "ceIZb3Sprd6x"
   },
   "source": [
    "Now, we need to vectorize our input vocabulary and output tags. The code below creates a number of global variables to help us with this. \n",
    "\n",
    "* The `WORD_TO_IDX` dictionary maps words occurring in the training data into unique integers. \n",
    "* The `TAG_TO_IDX` dictionary maps *every* tag in our data to a unique integer. \n",
    "* The `IDX_TO_TAG` dictionary maps the other way so you can decode tags later."
   ]
  },
  {
   "cell_type": "code",
   "execution_count": 14,
   "metadata": {
    "colab": {},
    "colab_type": "code",
    "id": "TySaTC7urd6y"
   },
   "outputs": [],
   "source": [
    "PAD = \"<null>\"\n",
    "UNK = \"<unk>\"\n",
    "\n",
    "words = set([word[0] for sent_words in input_tokens for word in sent_words])\n",
    "\n",
    "# Padding and unknown token\n",
    "words.add(PAD)\n",
    "words.add(UNK)\n",
    "\n",
    "tags = list(set([tag for sent_tags in output_tags for tag in sent_tags]))\n",
    "\n",
    "# Padding tag\n",
    "tags.append(PAD)\n",
    "\n",
    "WORD_TO_IDX = {w:i for i,w in enumerate(words)}\n",
    "TAG_TO_IDX = {t:i for i,t in enumerate(tags)}\n",
    "IDX_TO_TAG = tags"
   ]
  },
  {
   "cell_type": "markdown",
   "metadata": {},
   "source": [
    "Assertions to check your code."
   ]
  },
  {
   "cell_type": "code",
   "execution_count": 15,
   "metadata": {
    "colab": {},
    "colab_type": "code",
    "id": "a4E_e2hVrd61"
   },
   "outputs": [],
   "source": [
    "assert len(WORD_TO_IDX) == 8983\n",
    "assert len(TAG_TO_IDX) == 16"
   ]
  },
  {
   "cell_type": "markdown",
   "metadata": {
    "colab_type": "text",
    "id": "JC4AuqmCrd63"
   },
   "source": [
    "Next, write two functions `converttokens2tensors` and `converttags2tensors` which respectively convert lists of sentences of tokens or tags into lists of `torch.tensor()` objects (one tensor per sentence).  \n",
    "\n",
    "For tokens, each tensor should be of shape `3 x longest_sentence`. The three rows in the tensor are:\n",
    "1. The word index numbers for all words in the sentence, which you can get from the map `WORD_TO_IDX`. If a token is not in `WORD_TO_IDX` (i.e. it is an OOV token), you can replace the token with `UNK`.\n",
    "2. The `is_target_pred` binary features, represented by **integers 1 and 0**. \n",
    "3. The third row also represents an indicator feature with value 0 or 1. The value should be 0 if the character is `PAD` and 1 otherwise. \n",
    "\n",
    "For tags, each tensor should be a `torch.Tensor()` vector of length `longest_sentence`, corresponding to the integer indexes of the tags. Use `torch.long` as the dtype for both kinds of tensors."
   ]
  },
  {
   "cell_type": "code",
   "execution_count": 45,
   "metadata": {
    "colab": {},
    "colab_type": "code",
    "id": "1Qe5VPxPrd64"
   },
   "outputs": [],
   "source": [
    "def converttokens2tensors(input_tokens):\n",
    "    '''\n",
    "        Convert input_tokens into a tensor\n",
    "        \n",
    "        input:  A list of sentences consisting of (token, is_target_pred) pairs.\n",
    "        output: A list of 2 x sentence_length tensor t\n",
    "        \n",
    "        where t[0][i] gives the index number for token i, t[1][i] is either 0 or 1 \n",
    "        depending on is_target_pred and t[2][i] indicates whether this is a regular\n",
    "        token or padding token PAD.\n",
    "    '''\n",
    "    token_tensors = []\n",
    "    unk = WORD_TO_IDX[\"<unk>\"]\n",
    "    for sent in input_tokens:\n",
    "        words2idx,is_target,indicator = [],[],[]\n",
    "\n",
    "        for word, tag in sent:\n",
    "            words2idx.append(WORD_TO_IDX.get(word, unk))\n",
    "            is_target.append(tag)\n",
    "            indicator.append(0) if word == PAD else indicator.append(1)\n",
    "\n",
    "        t =  torch.tensor([words2idx,is_target,indicator], dtype = torch.long)\n",
    "        token_tensors.append(t)\n",
    "    \n",
    "    return token_tensors\n",
    "\n",
    "def converttags2tensors(output_tags):\n",
    "    '''\n",
    "        Convert output_tags into a tensor\n",
    "\n",
    "        input:  A list of IOB tag sequences.\n",
    "        output: A list of vectors of index numbers correspinding to IOB tags \n",
    "    '''\n",
    "    tag_tensors = []\n",
    "\n",
    "    for tags in output_tags:\n",
    "        # for each sentence: [1..100]               : TAG_TO_IDX, pad; \n",
    "        tmp = [TAG_TO_IDX[tag] for tag in tags]\n",
    "\n",
    "        t = torch.tensor(tmp, dtype = torch.long) \n",
    "        tag_tensors.append(t)\n",
    "\n",
    "    return tag_tensors"
   ]
  },
  {
   "cell_type": "code",
   "execution_count": 46,
   "metadata": {},
   "outputs": [
    {
     "name": "stdout",
     "output_type": "stream",
     "text": [
      "[tensor([[3922, 7607, 1620, 8163, 1610, 2363, 8728,  802, 7362, 8728, 2851, 8876,\n",
      "         3337, 8378, 2851, 8778, 7973, 3140, 5441,  838,  838,  838,  838,  838,\n",
      "          838,  838,  838,  838,  838,  838,  838,  838,  838,  838,  838,  838,\n",
      "          838,  838,  838,  838,  838,  838,  838,  838,  838,  838,  838,  838,\n",
      "          838,  838,  838,  838,  838,  838,  838,  838,  838,  838,  838,  838,\n",
      "          838,  838,  838,  838,  838,  838,  838,  838,  838,  838,  838,  838,\n",
      "          838,  838,  838,  838,  838,  838,  838,  838,  838,  838,  838,  838,\n",
      "          838,  838,  838,  838,  838,  838,  838,  838,  838,  838,  838,  838,\n",
      "          838,  838,  838,  838],\n",
      "        [   0,    0,    0,    0,    1,    0,    0,    0,    0,    0,    0,    0,\n",
      "            0,    0,    0,    0,    0,    0,    0,    0,    0,    0,    0,    0,\n",
      "            0,    0,    0,    0,    0,    0,    0,    0,    0,    0,    0,    0,\n",
      "            0,    0,    0,    0,    0,    0,    0,    0,    0,    0,    0,    0,\n",
      "            0,    0,    0,    0,    0,    0,    0,    0,    0,    0,    0,    0,\n",
      "            0,    0,    0,    0,    0,    0,    0,    0,    0,    0,    0,    0,\n",
      "            0,    0,    0,    0,    0,    0,    0,    0,    0,    0,    0,    0,\n",
      "            0,    0,    0,    0,    0,    0,    0,    0,    0,    0,    0,    0,\n",
      "            0,    0,    0,    0],\n",
      "        [   1,    1,    1,    1,    1,    1,    1,    1,    1,    1,    1,    1,\n",
      "            1,    1,    1,    1,    1,    1,    1,    0,    0,    0,    0,    0,\n",
      "            0,    0,    0,    0,    0,    0,    0,    0,    0,    0,    0,    0,\n",
      "            0,    0,    0,    0,    0,    0,    0,    0,    0,    0,    0,    0,\n",
      "            0,    0,    0,    0,    0,    0,    0,    0,    0,    0,    0,    0,\n",
      "            0,    0,    0,    0,    0,    0,    0,    0,    0,    0,    0,    0,\n",
      "            0,    0,    0,    0,    0,    0,    0,    0,    0,    0,    0,    0,\n",
      "            0,    0,    0,    0,    0,    0,    0,    0,    0,    0,    0,    0,\n",
      "            0,    0,    0,    0]])]\n",
      "----\n",
      "[tensor([ 6,  6,  6,  6,  7,  6,  6,  6,  6,  6,  6,  6,  6,  6,  6,  6,  6,  6,\n",
      "         6, 15, 15, 15, 15, 15, 15, 15, 15, 15, 15, 15, 15, 15, 15, 15, 15, 15,\n",
      "        15, 15, 15, 15, 15, 15, 15, 15, 15, 15, 15, 15, 15, 15, 15, 15, 15, 15,\n",
      "        15, 15, 15, 15, 15, 15, 15, 15, 15, 15, 15, 15, 15, 15, 15, 15, 15, 15,\n",
      "        15, 15, 15, 15, 15, 15, 15, 15, 15, 15, 15, 15, 15, 15, 15, 15, 15, 15,\n",
      "        15, 15, 15, 15, 15, 15, 15, 15, 15, 15])]\n"
     ]
    }
   ],
   "source": [
    "\n",
    "check_tokens, check_tags = converttokens2tensors(padded_input_tokens[:1]), converttags2tensors(padded_output_tags[:1])\n",
    "print(check_tokens)\n",
    "print(\"----\")\n",
    "print(check_tags)"
   ]
  },
  {
   "cell_type": "markdown",
   "metadata": {},
   "source": [
    "Assertions to check your code."
   ]
  },
  {
   "cell_type": "code",
   "execution_count": 47,
   "metadata": {
    "colab": {},
    "colab_type": "code",
    "id": "4e0PSFqUrd67",
    "outputId": "65f5c69c-3750-47c4-9284-18833582d02a",
    "scrolled": false
   },
   "outputs": [
    {
     "name": "stdout",
     "output_type": "stream",
     "text": [
      "Success!\n"
     ]
    }
   ],
   "source": [
    "check_tokens, check_tags = converttokens2tensors(padded_input_tokens[:5]), converttags2tensors(padded_output_tags[:5])\n",
    "assert check_tokens[0].shape == torch.Size([3, LONGEST_SENTENCE])\n",
    "assert check_tags[0].shape == torch.Size([LONGEST_SENTENCE])\n",
    "print('Success!')"
   ]
  },
  {
   "cell_type": "markdown",
   "metadata": {
    "colab_type": "text",
    "id": "goyBOKrCrd6-"
   },
   "source": [
    "### Final data preparation\n",
    "\n",
    "Below we provide code that does end-to-end conversion from the CoNLL format to a pytorch dataset object (which will allow us to use a `DataLoader` object). Since we have already done all the preprocessing necessary to have a nicely formated dataset, this is straightforward, and the code is provided. First, we define a pytorch `Dataset`."
   ]
  },
  {
   "cell_type": "code",
   "execution_count": 48,
   "metadata": {
    "colab": {},
    "colab_type": "code",
    "id": "hxsHbKhqrd6-"
   },
   "outputs": [],
   "source": [
    "class SRL_dataset(Dataset):\n",
    "    def __init__(self, input_data, output_data):\n",
    "        self.input_data = input_data\n",
    "        self.output_data = output_data\n",
    "        \n",
    "    def __len__(self):\n",
    "        return len(self.input_data)\n",
    "    \n",
    "    def __getitem__(self, index):\n",
    "        target = self.output_data[index]\n",
    "        data_val = self.input_data[index]\n",
    "        return data_val,target     "
   ]
  },
  {
   "cell_type": "markdown",
   "metadata": {
    "colab_type": "text",
    "id": "nxRCQTHard7A"
   },
   "source": [
    "The function below loads a set of files as a `SRL_dataset` in the correct format"
   ]
  },
  {
   "cell_type": "code",
   "execution_count": 49,
   "metadata": {
    "colab": {},
    "colab_type": "code",
    "id": "2ldOquKBrd7B"
   },
   "outputs": [],
   "source": [
    "def prepare_dataset(files):\n",
    "    '''given a list of Ontonotes SRL, loads them into a pytorch Dataset'''\n",
    "    input_tokens, output_tags = prepare_SRL_data(files)\n",
    "    padded_input_tokens, padded_output_tokens = pad_tokens(input_tokens, LONGEST_SENTENCE), pad_tags(output_tags, LONGEST_SENTENCE)\n",
    "    input_token_tensors, output_tags_tensors = converttokens2tensors(padded_input_tokens), converttags2tensors(padded_output_tokens)\n",
    "    return SRL_dataset(input_token_tensors, output_tags_tensors)"
   ]
  },
  {
   "cell_type": "markdown",
   "metadata": {},
   "source": [
    "Assertions to check that everything is working correctly."
   ]
  },
  {
   "cell_type": "code",
   "execution_count": 50,
   "metadata": {
    "colab": {
     "base_uri": "https://localhost:8080/",
     "height": 35
    },
    "colab_type": "code",
    "id": "eoyJ9Rv7rd7D",
    "outputId": "edc60915-24d1-4275-fdf3-3d6e3d11e03f"
   },
   "outputs": [
    {
     "name": "stdout",
     "output_type": "stream",
     "text": [
      "Success!\n"
     ]
    }
   ],
   "source": [
    "batch_size = 64\n",
    "\n",
    "train_dataset = prepare_dataset(train_files)\n",
    "assert len(train_dataset) == 22437\n",
    "\n",
    "train_dataloader = DataLoader(train_dataset, batch_size=batch_size, shuffle=False)\n",
    "for train_token_batch, train_tag_batch in train_dataloader:\n",
    "    assert train_token_batch.shape == torch.Size([batch_size, 3, LONGEST_SENTENCE])\n",
    "    assert train_tag_batch.shape == torch.Size([batch_size, LONGEST_SENTENCE])\n",
    "    break\n",
    "    \n",
    "print('Success!')"
   ]
  },
  {
   "cell_type": "markdown",
   "metadata": {
    "colab_type": "text",
    "id": "mW3JtXPMrd7G"
   },
   "source": [
    "## Exercise 2: Semantic Role Labeling with a biLSTM\n",
    "\n",
    "Now we will implement the biLSTM model from Semantic Role Labeling. A visual representation of the model is presented below. You'll notice that the input to the model is a `(token, token_is_target_verb)` tuple like those we just generated.\n",
    "\n",
    "<img src=\"data:image/png;base64, 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\" alt=\"Red dot\" />\n",
    "\n"
   ]
  },
  {
   "cell_type": "markdown",
   "metadata": {
    "colab_type": "text",
    "id": "AuONBeTyrd7G"
   },
   "source": [
    "### Exercise 2.1\n",
    "rubric={accuracy:3}\n",
    "\n",
    "Define a `biLSTMTagger` model. You should adapt the code from a basic LSTMTagger model [here](https://pytorch.org/tutorials/beginner/nlp/sequence_models_tutorial.html). You'll need to adapt the `__init__()` function in a couple of ways:\n",
    "1. You should be able initialize the class as `biLSTMTagger(WORD_TO_IDX, TAG_TO_IDX)`. You can use constants like `EMBEDDING_DIM` below to set all dimensionalities. \n",
    "2. Add a new embedding object, namely `self.indicator_embedding`, where we only have two vectors, one for the indicator value 1 and another one for indicator value 0. The embedding dimension should be that same as for the word embeddings, i.e. `EMBEDDING_DIM`.\n",
    "3. Change the input dimension of `self.lstm` to `2 * EMBEDDING_DIM` and make the LSTM layer bidirectional. Initialize the LSTM with `HIDDEN_DIM` and 1 layer.\n",
    "4. Change the input dimension of `self.hidden2tag` to `2 * HIDDEN_DIM`.\n",
    "\n",
    "You also need to change the `forward()` function:\n",
    "1. Modify the function so that it can take input of dimension `batch_size x 3 x sentence_length` (you may want to immediately transpose this into `3 x sentence_length x batch_size` because this will be compatible with torch LSTM).\n",
    "2. You'll need to separately generate embeddings for word tokens and indicator features, using the first and second row of the input batch, respectively. You can then concatenate those into a `sentence_length x batch_size x 2*EMBEDDING_DIM` tensor.\n",
    "3. You should then use the third row in the input batch to generate a vector `sentence_lengths` of size `batch_size` containing the lengths of the sentences in the input batch. The length refers to the number of actual word tokens as opposed to padding symbols.  \n",
    "4. Pack your embeddings into a torch RNN input batch using [`pack_padded_sequence`](https://pytorch.org/docs/stable/generated/torch.nn.utils.rnn.pack_padded_sequence.html). You will need to feed in `sentence_lengths` as a parameter.\n",
    "5. Call `self.lstm` on the result and transform the output back into a regular padded tensor using [`pad_packed_sequence`](https://pytorch.org/docs/stable/generated/torch.nn.utils.rnn.pad_packed_sequence.html). **Note:** You should set the parameter `total_length` to `LONGEST_SENTENCE` in order to pad all sentences in the dataset to the same length.\n",
    "\n",
    "Finally, pass the LSTM hidden states (one for every position in the sequence) through `self.hidden2tag` and `log_softmax` and return the result."
   ]
  },
  {
   "cell_type": "code",
   "execution_count": 51,
   "metadata": {
    "colab": {},
    "colab_type": "code",
    "id": "bu8j44PArd7G"
   },
   "outputs": [],
   "source": [
    "from torch.nn.utils.rnn import pack_padded_sequence, pad_packed_sequence\n",
    "\n",
    "# Here are the embedding and hidden dimensionalities as well as LSTM layer count\n",
    "EMBEDDING_DIM=75\n",
    "HIDDEN_DIM=50\n",
    "LAYERS=1\n",
    "\n",
    "# your code here\n",
    "class biLSTMTagger(nn.Module):\n",
    "\n",
    "    def __init__(self, vocab, tagset):\n",
    "        super(biLSTMTagger, self).__init__()\n",
    "\n",
    "        # requires vocab, tagset; \n",
    "\n",
    "        self.word_embeddings = nn.Embedding(len(vocab), EMBEDDING_DIM)       # `Embedding` with `len(vocab)` with EMBEDDING_DIM; \n",
    "        self.indicator_embedding = nn.Embedding(2, EMBEDDING_DIM)   # another `Embedding` for \"indicator_embedding (len(0 or 1)) == 2) with EMBEDDING_DIM ; \n",
    "        self.lstm = nn.LSTM(2*EMBEDDING_DIM, HIDDEN_DIM, bidirectional = True)                       # `LSTM` with 2 * EMBEDDING_DIM, HIDDEN_DIM, and bidrectional = True\n",
    "\n",
    "        self.hidden2tag = nn.Linear(HIDDEN_DIM*2, len(tagset))               # The linear layer that maps from hidden state space to tag space (output = len(tagset))\n",
    "\n",
    "    def forward(self, batch):\n",
    "        # 1. Modify the function so that it can take input of dimension `batch_size x 3 x sentence_length` \n",
    "        #       (you may want to immediately transpose this into `3 x sentence_length x batch_size` because this will be compatible with torch LSTM).\n",
    "        # `permute` (0,1,2)  -> (1,2,0) \n",
    "        batch = torch.permute(batch, (1,2,0))  # required to be permuted: 3 x sent_len x batch_size\n",
    "\n",
    "        # 2. You'll need to separately generate embeddings for word tokens and indicator features, \n",
    "        #   using the first and second row of the input batch, respectively. \n",
    "        #   You can then concatenate those into a `sentence_length x batch_size x 2*EMBEDDING_DIM` tensor.\n",
    "        embeds_word = self.word_embeddings(batch[0])\n",
    "        embeds_ind = self.indicator_embedding(batch[1])\n",
    "        embeds = torch.cat((embeds_word, embeds_ind), dim=2)                        # sent_len x batch_size x 2*EMBEDDING_DIM\n",
    "\n",
    "        # 3. You should then use the third row in the input batch to generate a vector `sentence_lengths` of size `batch_size` \n",
    "        #   containing the lengths of the sentences in the input batch. \n",
    "        #   The length refers to the number of actual word tokens as opposed to padding symbols.  \n",
    "        word_lengths = batch[2].sum(dim=0)                         # word_lengths by summing `batch[2]`\n",
    " \n",
    "        # 4. Pack your embeddings into a torch RNN input batch using `pack_padded_sequence`. \n",
    "        # You will need to feed in `sentence_lengths` as a parameter. + `enforce_sorted=False`\n",
    "        # print(embeds.size())\n",
    "        # print(word_lengths)\n",
    "        lstm_input = pack_padded_sequence(embeds, word_lengths, enforce_sorted=False)                      # requires `pack_padded_sequence`\n",
    " \n",
    "        # 5. Call `self.lstm` on the result and transform the output back into a regular padded tensor using `pad_packed_sequence`\n",
    "        # **Note:** You should set the parameter `total_length` to `LONGEST_SENTENCE` in order to pad all sentences in the dataset to the same length.     \n",
    "        lstm_out, _ = self.lstm(lstm_input)                       # sent_len x batch_size x 2*HIDDEN_DIM\n",
    "        lstm_out, _ = pad_packed_sequence(lstm_out, total_length = LONGEST_SENTENCE)                     \n",
    "        \n",
    "        tag_space = self.hidden2tag(lstm_out)                            # generated by `hidden2tag`: sent_len x batch_size x tagset_size\n",
    "        tag_scores = F.log_softmax(tag_space, dim=2)                # then, softmax; \n",
    "\n",
    "        return tag_scores"
   ]
  },
  {
   "cell_type": "markdown",
   "metadata": {},
   "source": [
    "An assertion to check your code:"
   ]
  },
  {
   "cell_type": "code",
   "execution_count": 52,
   "metadata": {},
   "outputs": [],
   "source": [
    "tagger = biLSTMTagger(WORD_TO_IDX, TAG_TO_IDX)\n",
    "batch = next(iter(train_dataloader))[0]\n",
    "assert tagger(batch).size() == (batch.size()[2], batch_size, len(TAG_TO_IDX))"
   ]
  },
  {
   "cell_type": "code",
   "execution_count": 53,
   "metadata": {},
   "outputs": [
    {
     "data": {
      "text/plain": [
       "64"
      ]
     },
     "execution_count": 53,
     "metadata": {},
     "output_type": "execute_result"
    }
   ],
   "source": [
    "batch_size"
   ]
  },
  {
   "cell_type": "code",
   "execution_count": 54,
   "metadata": {},
   "outputs": [
    {
     "data": {
      "text/plain": [
       "torch.Size([64, 3, 100])"
      ]
     },
     "execution_count": 54,
     "metadata": {},
     "output_type": "execute_result"
    }
   ],
   "source": [
    "batch.size()"
   ]
  },
  {
   "cell_type": "markdown",
   "metadata": {
    "colab_type": "text",
    "id": "Xtrljoqerd7J"
   },
   "source": [
    "### Exercise 2.2\n",
    "rubric={accuracy:1}\n",
    "\n",
    "Now, we'll need to train our LSTMTagger. Initialize your LSTMTagger and prepare your training data with:\n",
    "\n",
    "- 20 epochs\n",
    "- a NLLLoss() loss function\n",
    "- an SGD optimizer with learning rate 0.1"
   ]
  },
  {
   "cell_type": "code",
   "execution_count": 55,
   "metadata": {
    "colab": {},
    "colab_type": "code",
    "id": "8MTLTnzCrd7J"
   },
   "outputs": [],
   "source": [
    "EPOCHS = 20 \n",
    "model = biLSTMTagger(WORD_TO_IDX, TAG_TO_IDX)\n",
    "loss_function = nn.NLLLoss(ignore_index=TAG_TO_IDX[PAD])\n",
    "optimizer = optim.SGD(model.parameters(), lr=0.1)"
   ]
  },
  {
   "cell_type": "markdown",
   "metadata": {
    "colab_type": "text",
    "id": "ZqGYf_LSrd7N"
   },
   "source": [
    "### Exercise 2.3\n",
    "rubric={accuracy:1}\n",
    "\n",
    "Now train the model. Before training on a GPU, it will be worthwhile to generate a small dataset to make sure the model is training as expected. You should print out a loss at the end of each epoch. Feel free to adapt the training code from other neural network labs you have done in this program, there's nothing particularly special about this one.  If you see anything weird, like the loss increasing, or epochs taking forever on a small dataset, there's probably a bug in your code.  Try to get this part working before moving on to the entire dataset.\n",
    "\n",
    "Remember that the general NN training process / epoch consists of:\n",
    "    1. zeroing the gradient\n",
    "    2. passing your batch through the model\n",
    "    3. calculating the loss (make sure the output of your model matches the shape of your gold labels!)\n",
    "    4. back-propagating the loss\n",
    "    5. taking a step with the optimizer\n",
    "    \n",
    "Optionally, you may want to give your model functionality to save / load from a file (especially if you are running on a CPU)."
   ]
  },
  {
   "cell_type": "code",
   "execution_count": 56,
   "metadata": {
    "colab": {
     "base_uri": "https://localhost:8080/",
     "height": 1000
    },
    "colab_type": "code",
    "id": "ZMrqUpp6rd7N",
    "outputId": "0ce79450-5d93-444b-8d7c-0e76d5b819cc"
   },
   "outputs": [
    {
     "name": "stdout",
     "output_type": "stream",
     "text": [
      "\n",
      "Epoch 1\n",
      "Avg loss per sentence: 1.2754137516021729\n",
      "Epoch 2\n",
      "Avg loss per sentence: 1.060939073562622\n",
      "Epoch 3\n",
      "Avg loss per sentence: 0.9845103025436401\n",
      "Epoch 4\n",
      "Avg loss per sentence: 0.940952479839325\n",
      "Epoch 5\n",
      "Avg loss per sentence: 0.9110361337661743\n",
      "Epoch 6\n",
      "Avg loss per sentence: 0.8864666819572449\n",
      "Epoch 7\n",
      "Avg loss per sentence: 0.8651724457740784\n",
      "Epoch 8\n",
      "Avg loss per sentence: 0.8459624648094177\n",
      "Epoch 9\n",
      "Avg loss per sentence: 0.8250940442085266\n",
      "Epoch 10\n",
      "Avg loss per sentence: 0.8051414489746094\n",
      "Epoch 11\n",
      "Avg loss per sentence: 0.7855508327484131\n",
      "Epoch 12\n",
      "Avg loss per sentence: 0.7687463164329529\n",
      "Epoch 13\n",
      "Avg loss per sentence: 0.7534292936325073\n",
      "Epoch 14\n",
      "Avg loss per sentence: 0.7399144768714905\n",
      "Epoch 15\n",
      "Avg loss per sentence: 0.7255632877349854\n",
      "Epoch 16\n",
      "Avg loss per sentence: 0.7136132717132568\n",
      "Epoch 17\n",
      "Avg loss per sentence: 0.702505886554718\n",
      "Epoch 18\n",
      "Avg loss per sentence: 0.6922375559806824\n",
      "Epoch 19\n",
      "Avg loss per sentence: 0.6828761100769043\n",
      "Epoch 20\n",
      "Avg loss per sentence: 0.6749053597450256\n"
     ]
    }
   ],
   "source": [
    "# Generate a small training set containing the 50 first batches\n",
    "mini_trainset = list(train_dataloader)\n",
    "print()\n",
    "\n",
    "for epoch in range(EPOCHS):  \n",
    "    print(f\"Epoch {epoch+1}\")\n",
    "    tot_loss = 0    \n",
    "\n",
    "    for sent_batch, tag_batch in mini_trainset:\n",
    "\n",
    "        # `zero_gread()`\n",
    "        model.zero_grad()\n",
    "        \n",
    "        output = model(sent_batch)\n",
    "        output = output.permute(1,2,0) # batch size x 3 x sentence length\n",
    "        loss = loss_function(output, tag_batch)\n",
    "        loss.backward()\n",
    "        tot_loss += loss\n",
    "        optimizer.step()\n",
    "        \n",
    "    print(f\"Avg loss per sentence: {tot_loss/len(mini_trainset)}\")"
   ]
  },
  {
   "cell_type": "markdown",
   "metadata": {
    "colab_type": "text",
    "id": "bNZHCDbPrd7Q"
   },
   "source": [
    "### Exercise 2.4\n",
    "rubric = {accuracy:2,quality:1}\n",
    "\n",
    "\n",
    "Now print out a classification report of your model for the `dev_data`. You'll need predict the tag_scores and convert them to text using your `IDX_TO_TAG` dictionary from before. You should skip the padding symbol (i.e. `PAD` tag) in your calculations using the `labels` option for `classification_report`.\n",
    "\n",
    "Your micro average f1-score should be above 70%."
   ]
  },
  {
   "cell_type": "code",
   "execution_count": 77,
   "metadata": {
    "colab": {},
    "colab_type": "code",
    "id": "yFONn7Gkrd7Q",
    "scrolled": false
   },
   "outputs": [
    {
     "name": "stderr",
     "output_type": "stream",
     "text": [
      "c:\\Users\\chris\\miniconda3\\lib\\site-packages\\sklearn\\metrics\\_classification.py:1334: UndefinedMetricWarning: Recall and F-score are ill-defined and being set to 0.0 in labels with no true samples. Use `zero_division` parameter to control this behavior.\n",
      "  _warn_prf(average, modifier, msg_start, len(result))\n",
      "c:\\Users\\chris\\miniconda3\\lib\\site-packages\\sklearn\\metrics\\_classification.py:1334: UndefinedMetricWarning: Recall and F-score are ill-defined and being set to 0.0 in labels with no true samples. Use `zero_division` parameter to control this behavior.\n",
      "  _warn_prf(average, modifier, msg_start, len(result))\n"
     ]
    },
    {
     "name": "stdout",
     "output_type": "stream",
     "text": [
      "              precision    recall  f1-score   support\n",
      "\n",
      "      B-ARG2       0.30      0.66      0.41       444\n",
      "      I-ARGM       0.07      0.41      0.12       784\n",
      "      B-ARG0       0.45      0.76      0.56      1035\n",
      "      I-ARG0       0.03      0.68      0.07        72\n",
      "      I-ARG2       0.26      0.66      0.38      1634\n",
      "      B-ARG3       0.00      0.00      0.00         0\n",
      "           O       0.97      0.15      0.27    378076\n",
      "      B-PRED       1.00      0.98      0.99      4056\n",
      "      B-ARG1       0.55      0.63      0.59      2391\n",
      "      I-ARG4       0.00      0.00      0.00         0\n",
      "      I-PRED       0.06      1.00      0.11         4\n",
      "      I-ARG1       0.52      0.69      0.59      8338\n",
      "      B-ARGM       0.26      0.52      0.35      1166\n",
      "      B-ARG4       0.00      0.00      0.00         0\n",
      "      I-ARG3       0.00      0.00      0.00         0\n",
      "\n",
      "   micro avg       0.77      0.18      0.30    398000\n",
      "   macro avg       0.30      0.48      0.30    398000\n",
      "weighted avg       0.95      0.18      0.28    398000\n",
      "\n"
     ]
    },
    {
     "name": "stderr",
     "output_type": "stream",
     "text": [
      "c:\\Users\\chris\\miniconda3\\lib\\site-packages\\sklearn\\metrics\\_classification.py:1334: UndefinedMetricWarning: Recall and F-score are ill-defined and being set to 0.0 in labels with no true samples. Use `zero_division` parameter to control this behavior.\n",
      "  _warn_prf(average, modifier, msg_start, len(result))\n"
     ]
    }
   ],
   "source": [
    "dev_dataset = prepare_dataset(dev_files)\n",
    "dev_dataloader = DataLoader(dev_dataset, batch_size=1, shuffle=False)\n",
    "\n",
    "sys_tags = []\n",
    "gold_tags = []\n",
    "\n",
    "# your code here\n",
    "for sent, tags in dev_dataloader:\n",
    "    # model\n",
    "    output = model(sent)\n",
    "    # argmax of the reuslt of `model`\n",
    "    tag = torch.argmax(output, dim=2).squeeze(1)\n",
    "    # accumulate predicted tags\n",
    "    sys_tags.extend([IDX_TO_TAG[i] for i in tag])\n",
    "    # accumulate gold tags (`tags`)\n",
    "    # print(\"sys:\", len(sys_tags))\n",
    "    # print(len(tags.squeeze(0)))\n",
    "    # print(tags.squeeze(0))\n",
    "    gold_tags.extend([IDX_TO_TAG[i] for i in tags.squeeze(0)])\n",
    "    # print(len(gold_tags))\n",
    "\n",
    "\n",
    "print(classification_report(sys_tags, gold_tags, labels=list(TAG_TO_IDX.keys())[:-1]))\n"
   ]
  },
  {
   "cell_type": "code",
   "execution_count": 78,
   "metadata": {},
   "outputs": [
    {
     "name": "stdout",
     "output_type": "stream",
     "text": [
      "398000\n"
     ]
    }
   ],
   "source": [
    "print(len(sys_tags))"
   ]
  },
  {
   "cell_type": "code",
   "execution_count": 79,
   "metadata": {},
   "outputs": [
    {
     "name": "stdout",
     "output_type": "stream",
     "text": [
      "398000\n"
     ]
    }
   ],
   "source": [
    "print(len(gold_tags))"
   ]
  },
  {
   "cell_type": "markdown",
   "metadata": {
    "colab_type": "text",
    "id": "2V2GpjoArd7U"
   },
   "source": [
    "## Exercise 3: Kaggle Competition \n",
    "\n",
    "### Exercise 3.1\n",
    "rubric={accuracy:2}\n",
    "\n",
    "There's one small additional challenge to preparing for this week's Kaggle competition: although the test data is in CoNLL format, it is entirely missing the SRL columns, so you won't be able to use  `df2iob` to build your set of tokens with predicate indicators 0/1 (which are also needed in prediction mode). Here's an example of the test data format:\n",
    "\n",
    "```\n",
    "ontonotes/wb/a2e/00/a2e_0000   0    0  Celebration    NN  (TOP(S(NP*     -          -\n",
    "ontonotes/wb/a2e/00/a2e_0000   0    1     Shooting    NN           *) shoot  shoot.02\n",
    "ontonotes/wb/a2e/00/a2e_0000   0    2        Turns   VBZ        (VP*   turn   turn.02\n",
    "ontonotes/wb/a2e/00/a2e_0000   0    3      Wedding    NN        (NP*)    -          -\n",
    "ontonotes/wb/a2e/00/a2e_0000   0    4         Into    IN        (PP*     -          -\n",
    "ontonotes/wb/a2e/00/a2e_0000   0    5            a    DT        (NP*     -          -\n",
    "ontonotes/wb/a2e/00/a2e_0000   0    6      Funeral    NN           *)    -          -\n",
    "ontonotes/wb/a2e/00/a2e_0000   0    7           in    IN        (PP*     -          -\n",
    "ontonotes/wb/a2e/00/a2e_0000   0    8     Southern    JJ        (NP*     -          -\n",
    "ontonotes/wb/a2e/00/a2e_0000   0    9         Gaza   NNP           *     -          -\n",
    "ontonotes/wb/a2e/00/a2e_0000   0   10        Strip   NNP      *))))))    -          -\n",
    "\n",
    "```\n",
    "\n",
    "You should create a new version of `prepare_SRL_data` that gets around this problem by using the `VerbSense` column of your dataframe (that's the last column in the table). For each token with a verb sense (`shoot.02` and `turn.02` above), you should generate one list of tokens with indicator features 0/1.\n",
    "\n",
    "Be sure to create these instances in the order that the verbs appear in the sentences, to keep your format consistent with ours so that the automatic evaulation for the Kaggle competition will work correctly. **Also, remember to lower-case your tokens!** \n",
    "\n",
    "You will need to output tags to keep things consistent with the original version of `prepare_SRL_data`, you can just have dummy O tags for everything.\n",
    "\n",
    "From the table above, you should generate two token lists. First:\n",
    "```\n",
    "('celebration', 0)\n",
    "('shooting', 1)\n",
    "('turns', 0)\n",
    "('wedding', 0)\n",
    "('into', 0)\n",
    "('a', 0)\n",
    "('funeral', 0)\n",
    "('in', 0)\n",
    "('southern', 0)\n",
    "('gaza', 0)\n",
    "('strip', 0)\n",
    "```\n",
    "and, second: \n",
    "```\n",
    "('celebration', 0)\n",
    "('shooting', 0)\n",
    "('turns', 1)\n",
    "('wedding', 0)\n",
    "('into', 0)\n",
    "('a', 0)\n",
    "('funeral', 0)\n",
    "('in', 0)\n",
    "('southern', 0)\n",
    "('gaza', 0)\n",
    "('strip', 0)\n",
    "```\n",
    "\n",
    "You also need to generate tag sequences containing all O's.\n",
    "\n",
    "**Hint:** You can do this using Pandas. It's also fine to read the data using native Python functions.\n",
    "\n",
    "**Hint:** Depending on your code, you may get empty token and tag lists. You should skip those."
   ]
  },
  {
   "cell_type": "code",
   "execution_count": 80,
   "metadata": {
    "colab": {},
    "colab_type": "code",
    "id": "cbDBZY8grd7U"
   },
   "outputs": [],
   "source": [
    "from os.path import join\n",
    "\n",
    "COLUMN_HEADERS = ['Path', 'SentId', 'WordIdx', 'Word', 'POS', 'Parse', 'Verb', 'VerbSense']\n",
    "\n",
    "    \n",
    "def prepare_SRL_data(files):\n",
    "    token_lists = []\n",
    "    tag_lists = []\n",
    "    \n",
    "    for filename in files:\n",
    "        with open(join(ontonotes_path,filename)) as f:  \n",
    "            sentences = f.read().split(\"\\n\\n\")\n",
    "            sentences = [[line.split(\"\\t\") for line in sent.split(\"\\n\")] for sent in sentences if not sent == \"\"]\n",
    "            for sent in sentences:\n",
    "                df = pd.DataFrame(sent, columns=COLUMN_HEADERS)\n",
    "                indicators = (df[\"VerbSense\"] != \"-\").values\n",
    "                words = df[\"Word\"].values.tolist()\n",
    "                tags = [\"O\" for j in range(len(words))]\n",
    "                for i, indicator in enumerate(indicators):\n",
    "                    if indicator:\n",
    "                        token_lists.append([(w.lower(), 1 if j == i else 0) for j, w in enumerate(words)])\n",
    "                        ind = np.zeros(len(words),dtype=int)\n",
    "                        ind[i] = 1\n",
    "                        tag_lists.append(tags)\n",
    "    return token_lists, tag_lists\n",
    "    \n",
    "\n",
    "# A test to check that your function works correctly\n",
    "token_lists, tag_lists = prepare_SRL_data([test_files[0]])\n",
    "assert len(token_lists) == 57\n",
    "assert len(tag_lists) == 57"
   ]
  },
  {
   "cell_type": "markdown",
   "metadata": {
    "colab_type": "text",
    "id": "SN7_KKaVrd7W"
   },
   "source": [
    "### Exercise 3.2\n",
    "rubric={accuracy:1}\n",
    "\n",
    "Now predict SRLabels for the test data and output your tags as we did for Lab 1, with a unique integer index in the first column and your predicted tags in the second. The file should have a header of `Id,Predicted`. A lot of your output will be `<null>`, but that's okay. Note again that you need to have run the cell from **3.1** before you call `prepare_dataset` so it uses your new version of `prepare_SRL_data` rather than the original one from **1.1*** which is only suitable for test data."
   ]
  },
  {
   "cell_type": "code",
   "execution_count": 81,
   "metadata": {},
   "outputs": [],
   "source": [
    "EPOCHS = 20 \n",
    "model = biLSTMTagger(WORD_TO_IDX, TAG_TO_IDX)\n",
    "loss_function = nn.NLLLoss()\n",
    "optimizer = optim.SGD(model.parameters(), lr=0.1)"
   ]
  },
  {
   "cell_type": "code",
   "execution_count": 82,
   "metadata": {},
   "outputs": [
    {
     "name": "stdout",
     "output_type": "stream",
     "text": [
      "\n",
      "Epoch 1\n",
      "Avg loss per sentence: 0.594574511051178\n",
      "Epoch 2\n",
      "Avg loss per sentence: 0.3173092305660248\n",
      "Epoch 3\n",
      "Avg loss per sentence: 0.286975622177124\n",
      "Epoch 4\n",
      "Avg loss per sentence: 0.2703966796398163\n",
      "Epoch 5\n",
      "Avg loss per sentence: 0.2589440941810608\n",
      "Epoch 6\n",
      "Avg loss per sentence: 0.2498330920934677\n",
      "Epoch 7\n",
      "Avg loss per sentence: 0.24211423099040985\n",
      "Epoch 8\n",
      "Avg loss per sentence: 0.23557239770889282\n",
      "Epoch 9\n",
      "Avg loss per sentence: 0.2301451414823532\n",
      "Epoch 10\n",
      "Avg loss per sentence: 0.22567777335643768\n",
      "Epoch 11\n",
      "Avg loss per sentence: 0.2219036966562271\n",
      "Epoch 12\n",
      "Avg loss per sentence: 0.2187049239873886\n",
      "Epoch 13\n",
      "Avg loss per sentence: 0.2159619927406311\n",
      "Epoch 14\n",
      "Avg loss per sentence: 0.21358978748321533\n",
      "Epoch 15\n",
      "Avg loss per sentence: 0.21150198578834534\n",
      "Epoch 16\n",
      "Avg loss per sentence: 0.2096129208803177\n",
      "Epoch 17\n",
      "Avg loss per sentence: 0.20773008465766907\n",
      "Epoch 18\n",
      "Avg loss per sentence: 0.20606881380081177\n",
      "Epoch 19\n",
      "Avg loss per sentence: 0.20440028607845306\n",
      "Epoch 20\n",
      "Avg loss per sentence: 0.20296193659305573\n"
     ]
    }
   ],
   "source": [
    "# Generate a small training set containing the 50 first batches\n",
    "mini_trainset = list(train_dataloader)\n",
    "print()\n",
    "\n",
    "for epoch in range(EPOCHS):  \n",
    "    print(f\"Epoch {epoch+1}\")\n",
    "    tot_loss = 0    \n",
    "\n",
    "    for sent_batch, tag_batch in mini_trainset:\n",
    "\n",
    "        # `zero_gread()`\n",
    "        model.zero_grad()\n",
    "        \n",
    "        output = model(sent_batch)\n",
    "        output = output.permute(1,2,0) # batch size x 3 x sentence length\n",
    "        loss = loss_function(output, tag_batch)\n",
    "        loss.backward()\n",
    "        tot_loss += loss\n",
    "        optimizer.step()\n",
    "        \n",
    "    print(f\"Avg loss per sentence: {tot_loss/len(mini_trainset)}\")"
   ]
  },
  {
   "cell_type": "code",
   "execution_count": 97,
   "metadata": {
    "colab": {},
    "colab_type": "code",
    "id": "zWtLa6Ugrd7X"
   },
   "outputs": [],
   "source": [
    "test_dataset = prepare_dataset(test_files) # must use the new prepare_SRL_data for this to work\n",
    "test_dataloader = DataLoader(test_dataset, batch_size=batch_size, shuffle=False)\n",
    "all_predicted_tags, sys = [], []\n",
    "#your code here\n",
    "\n",
    "for sent, _ in test_dataloader:\n",
    "    output = model(sent)\n",
    "    # argmax of the reuslt of `model`\n",
    "    tag = torch.argmax(output, dim=2).squeeze(1).permute(1,0)\n",
    "    # for t in tag:\n",
    "    #     sys.extend(t.tolist())\n",
    "    # all_predicted_tags.extend([IDX_TO_TAG[i] for i in sys])\n",
    "    all_predicted_tags.extend([IDX_TO_TAG[i] for j in tag for i in j.tolist()])\n"
   ]
  },
  {
   "cell_type": "markdown",
   "metadata": {},
   "source": [
    "An assertion to check your code "
   ]
  },
  {
   "cell_type": "code",
   "execution_count": 98,
   "metadata": {},
   "outputs": [],
   "source": [
    "assert len(all_predicted_tags) == 540100"
   ]
  },
  {
   "cell_type": "markdown",
   "metadata": {},
   "source": [
    "Write your predictions in the file `kaggle_tags.csv`."
   ]
  },
  {
   "cell_type": "code",
   "execution_count": 100,
   "metadata": {
    "colab": {},
    "colab_type": "code",
    "id": "z1jpKMh-rd7Z"
   },
   "outputs": [],
   "source": [
    "HEADER = 'Id,Predicted'\n",
    "\n",
    "\n",
    "import csv\n",
    "with open('kaggle_tags.csv', 'w', newline='') as csvfile:\n",
    "    writer = csv.writer(csvfile, delimiter=',')\n",
    "    writer.writerow(['Id','Predicted'])\n",
    "    for id, i in enumerate(all_predicted_tags):\n",
    "        writer.writerow([id,i])"
   ]
  },
  {
   "cell_type": "markdown",
   "metadata": {},
   "source": [
    "Assertions to check that your output file contains the correct number of tokens and sentences."
   ]
  },
  {
   "cell_type": "code",
   "execution_count": 101,
   "metadata": {
    "colab": {},
    "colab_type": "code",
    "id": "8Xa6Uu_erd7b",
    "outputId": "005b2f4f-7116-4d7e-f93c-5b1d4e6bc2eb"
   },
   "outputs": [
    {
     "name": "stdout",
     "output_type": "stream",
     "text": [
      "Success!\n"
     ]
    }
   ],
   "source": [
    "with open('kaggle_tags.csv') as f:\n",
    "    lines = f.readlines()\n",
    "    assert len(lines) == 540101\n",
    "    assert lines[0].strip() == HEADER\n",
    "    assert lines[1].startswith(\"0,\")\n",
    "    assert lines[-1].startswith(\"540099,\")    \n",
    "print(\"Success!\")"
   ]
  },
  {
   "cell_type": "markdown",
   "metadata": {
    "colab_type": "text",
    "id": "5-QpSgJFrd7e"
   },
   "source": [
    "### Exercise 3.3 (optional)\n",
    "rubric={accuracy:2}\n",
    "\n",
    "When you've generated them, submit your tags to our kaggle competition. The competition page can be found [here](https://www.kaggle.com/t/da7da8c6cc0442c5bc27811a525530be). You'll first need to join our competition.\n",
    "\n",
    "Your submission is evaluated in two sets: Public and Private. You will be able to see how you rank on the Public Leaderboard of the kaggle competition, which is evaluated on the Public data set. The final rankings, however, will be determined by your results on the Private data set.\n",
    "\n",
    "Try to beat the baseline model (which was trained with the parameters above, but fewer epochs) in the Public leaderboard. You should be able to do this with your initial system you have built if you have correctly followed the instructions in this lab."
   ]
  },
  {
   "cell_type": "markdown",
   "metadata": {
    "colab_type": "text",
    "id": "DmjQ9GKhrd7e"
   },
   "source": [
    "### Exercise 3.4 (optional)\n",
    "rubric={raw:2}\n",
    "\n",
    "Now compete to generate the best SRL tags. There's lots of room for improvement. You can build a deeper model, play around with hyperparameters, loss functions, regularization, etc. If you'd really like to push the limits, you can incorporate pre-trained word embeddings into the model (including contextualized word embeddings like BERT), add features from POS tagging, chunking or parsing (you would add them to the input tensors in the same way you did the predicate binary feature), or even add a CRF layer or some other kind of discrete optimization!\n",
    "\n",
    "Important:  In order to provide a level playing field, you must train your models on *only* the training data.  Combining the training and development data into a single training set will disqualify you from the Kaggle.\n",
    "\n",
    "As said, points in this exercise will be given based on ranking in the *Private* leaderboard at the deadline. \n",
    "\n",
    "- 1st: 2 points\n",
    "- 2nd: 1.8 point\n",
    "- 3rd: 1.6 point\n",
    "- 4th: 1.4 point\n",
    "- 5th: 1.2 point\n",
    "- 6th: 1 point\n",
    "- 7th: 0.8 point\n",
    "- 8th 0.6 point\n",
    "- 9th: 0.4 point \n",
    "- 10th: 0.2 point \n",
    "\n",
    "Again, make sure we can duplicate your result by running your code."
   ]
  },
  {
   "cell_type": "code",
   "execution_count": null,
   "metadata": {},
   "outputs": [],
   "source": []
  }
 ],
 "metadata": {
  "accelerator": "GPU",
  "colab": {
   "name": "Lab2.ipynb",
   "provenance": []
  },
  "kernelspec": {
   "display_name": "Python 3 (ipykernel)",
   "language": "python",
   "name": "python3"
  },
  "language_info": {
   "codemirror_mode": {
    "name": "ipython",
    "version": 3
   },
   "file_extension": ".py",
   "mimetype": "text/x-python",
   "name": "python",
   "nbconvert_exporter": "python",
   "pygments_lexer": "ipython3",
   "version": "3.10.6"
  }
 },
 "nbformat": 4,
 "nbformat_minor": 1
}
